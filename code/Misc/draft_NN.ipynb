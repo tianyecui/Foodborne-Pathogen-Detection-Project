{
  "nbformat": 4,
  "nbformat_minor": 0,
  "metadata": {
    "colab": {
      "provenance": [],
      "collapsed_sections": []
    },
    "kernelspec": {
      "name": "ir",
      "display_name": "R"
    },
    "language_info": {
      "name": "R"
    },
    "accelerator": "GPU",
    "gpuClass": "standard"
  },
  "cells": [
    {
      "cell_type": "code",
      "execution_count": null,
      "metadata": {
        "colab": {
          "base_uri": "https://localhost:8080/"
        },
        "id": "vv6aADt_lkkf",
        "outputId": "faf1d6b5-cd9d-4818-fe03-7051a232625e"
      },
      "outputs": [
        {
          "output_type": "stream",
          "name": "stderr",
          "text": [
            "Installing packages into ‘/usr/local/lib/R/site-library’\n",
            "(as ‘lib’ is unspecified)\n",
            "\n",
            "also installing the dependencies ‘Rcpp’, ‘RcppTOML’, ‘here’, ‘png’, ‘config’, ‘tfautograph’, ‘reticulate’, ‘tensorflow’, ‘tfruns’, ‘zeallot’\n",
            "\n",
            "\n"
          ]
        }
      ],
      "source": [
        "install.packages(c(\"keras\",\"tfdatasets\",\"Metrics\"))"
      ]
    },
    {
      "cell_type": "code",
      "source": [
        "library(keras)\n",
        "library(tfdatasets) # examples from tensor flow\n",
        "library(tidyverse)"
      ],
      "metadata": {
        "id": "q3_01_bklxKD",
        "colab": {
          "base_uri": "https://localhost:8080/"
        },
        "outputId": "f7cae485-1974-463e-ce4c-6e6bfae780e9"
      },
      "execution_count": null,
      "outputs": [
        {
          "output_type": "stream",
          "name": "stderr",
          "text": [
            "Warning message in system(\"timedatectl\", intern = TRUE):\n",
            "“running command 'timedatectl' had status 1”\n",
            "── \u001b[1mAttaching packages\u001b[22m ─────────────────────────────────────── tidyverse 1.3.1 ──\n",
            "\n",
            "\u001b[32m✔\u001b[39m \u001b[34mggplot2\u001b[39m 3.3.6      \u001b[32m✔\u001b[39m \u001b[34mpurrr  \u001b[39m 0.3.5 \n",
            "\u001b[32m✔\u001b[39m \u001b[34mtibble \u001b[39m 3.1.7      \u001b[32m✔\u001b[39m \u001b[34mdplyr  \u001b[39m 1.0.10\n",
            "\u001b[32m✔\u001b[39m \u001b[34mtidyr  \u001b[39m 1.2.1      \u001b[32m✔\u001b[39m \u001b[34mstringr\u001b[39m 1.4.1 \n",
            "\u001b[32m✔\u001b[39m \u001b[34mreadr  \u001b[39m 2.1.3      \u001b[32m✔\u001b[39m \u001b[34mforcats\u001b[39m 0.5.2 \n",
            "\n",
            "── \u001b[1mConflicts\u001b[22m ────────────────────────────────────────── tidyverse_conflicts() ──\n",
            "\u001b[31m✖\u001b[39m \u001b[34mdplyr\u001b[39m::\u001b[32mfilter()\u001b[39m masks \u001b[34mstats\u001b[39m::filter()\n",
            "\u001b[31m✖\u001b[39m \u001b[34mdplyr\u001b[39m::\u001b[32mlag()\u001b[39m    masks \u001b[34mstats\u001b[39m::lag()\n",
            "\n"
          ]
        }
      ]
    },
    {
      "cell_type": "code",
      "source": [
        "isolates <- read.csv('isolates_filtered_collect_date_imputed.csv')\n",
        "\n",
        "############### Just keep some certain sources for now: ###############\n",
        "# temp_source <- c('environmental swab', 'food', 'blood')\n",
        "# temp_source <- c('pork', 'chicken', 'beef', 'blood','milk')\n",
        "# temp_source <- c('food', 'blood') # this is used in neural network\n",
        "# temp_source <- c('food', 'blood', 'water') # this is used in multinomial\n",
        "\n",
        "# isolates_sub <- isolates %>% filter(Isolation.source %in% temp_source)\n",
        "\n",
        "\n",
        "# keep complete cases for mindiff/same:\n",
        "isolates_sub_comp <- isolates[complete.cases(isolates$Min.diff) & complete.cases(isolates$Min.same), ]\n"
      ],
      "metadata": {
        "id": "wndlzkqi1Rtf"
      },
      "execution_count": null,
      "outputs": []
    },
    {
      "cell_type": "code",
      "source": [
        "# isolates_org <- read.csv('isolates_sub_comp.csv')\n",
        "isolates_org <-isolates_sub_comp"
      ],
      "metadata": {
        "id": "ShMp7Ck1lynW"
      },
      "execution_count": null,
      "outputs": []
    },
    {
      "cell_type": "code",
      "source": [
        "isolates <- isolates_org %>% filter(Isolation.source %in% c('blood', 'chicken'))\n",
        "isolates <- isolates[,c('AMR.genotypes' , 'Min.diff', 'Min.same', 'Isolation.source')]\n",
        "isolates$Isolation.source <- as.numeric(as.factor(isolates$Isolation.source)) \n",
        "isolates$AMR.genotypes <- as.factor(isolates$AMR.genotypes)\n",
        "head(isolates)"
      ],
      "metadata": {
        "id": "YNSzdIefsBqH",
        "colab": {
          "base_uri": "https://localhost:8080/",
          "height": 286
        },
        "outputId": "6a7e2dfd-5408-4254-c5b8-4418786f5af6"
      },
      "execution_count": null,
      "outputs": [
        {
          "output_type": "display_data",
          "data": {
            "text/html": [
              "<table class=\"dataframe\">\n",
              "<caption>A data.frame: 6 × 4</caption>\n",
              "<thead>\n",
              "\t<tr><th></th><th scope=col>AMR.genotypes</th><th scope=col>Min.diff</th><th scope=col>Min.same</th><th scope=col>Isolation.source</th></tr>\n",
              "\t<tr><th></th><th scope=col>&lt;fct&gt;</th><th scope=col>&lt;int&gt;</th><th scope=col>&lt;int&gt;</th><th scope=col>&lt;dbl&gt;</th></tr>\n",
              "</thead>\n",
              "<tbody>\n",
              "\t<tr><th scope=row>1</th><td>fosX=COMPLETE,lin=COMPLETE</td><td>16</td><td>22</td><td>1</td></tr>\n",
              "\t<tr><th scope=row>2</th><td>fosX=COMPLETE,lin=COMPLETE</td><td>17</td><td> 6</td><td>1</td></tr>\n",
              "\t<tr><th scope=row>3</th><td>fosX=COMPLETE,lin=COMPLETE</td><td>11</td><td>12</td><td>1</td></tr>\n",
              "\t<tr><th scope=row>4</th><td>fosX=COMPLETE,lin=COMPLETE</td><td>25</td><td>22</td><td>2</td></tr>\n",
              "\t<tr><th scope=row>5</th><td>fosX=COMPLETE,lin=COMPLETE</td><td> 4</td><td> 8</td><td>1</td></tr>\n",
              "\t<tr><th scope=row>6</th><td>fosX=COMPLETE,lin=COMPLETE</td><td>19</td><td> 1</td><td>1</td></tr>\n",
              "</tbody>\n",
              "</table>\n"
            ],
            "text/markdown": "\nA data.frame: 6 × 4\n\n| <!--/--> | AMR.genotypes &lt;fct&gt; | Min.diff &lt;int&gt; | Min.same &lt;int&gt; | Isolation.source &lt;dbl&gt; |\n|---|---|---|---|---|\n| 1 | fosX=COMPLETE,lin=COMPLETE | 16 | 22 | 1 |\n| 2 | fosX=COMPLETE,lin=COMPLETE | 17 |  6 | 1 |\n| 3 | fosX=COMPLETE,lin=COMPLETE | 11 | 12 | 1 |\n| 4 | fosX=COMPLETE,lin=COMPLETE | 25 | 22 | 2 |\n| 5 | fosX=COMPLETE,lin=COMPLETE |  4 |  8 | 1 |\n| 6 | fosX=COMPLETE,lin=COMPLETE | 19 |  1 | 1 |\n\n",
            "text/latex": "A data.frame: 6 × 4\n\\begin{tabular}{r|llll}\n  & AMR.genotypes & Min.diff & Min.same & Isolation.source\\\\\n  & <fct> & <int> & <int> & <dbl>\\\\\n\\hline\n\t1 & fosX=COMPLETE,lin=COMPLETE & 16 & 22 & 1\\\\\n\t2 & fosX=COMPLETE,lin=COMPLETE & 17 &  6 & 1\\\\\n\t3 & fosX=COMPLETE,lin=COMPLETE & 11 & 12 & 1\\\\\n\t4 & fosX=COMPLETE,lin=COMPLETE & 25 & 22 & 2\\\\\n\t5 & fosX=COMPLETE,lin=COMPLETE &  4 &  8 & 1\\\\\n\t6 & fosX=COMPLETE,lin=COMPLETE & 19 &  1 & 1\\\\\n\\end{tabular}\n",
            "text/plain": [
              "  AMR.genotypes              Min.diff Min.same Isolation.source\n",
              "1 fosX=COMPLETE,lin=COMPLETE 16       22       1               \n",
              "2 fosX=COMPLETE,lin=COMPLETE 17        6       1               \n",
              "3 fosX=COMPLETE,lin=COMPLETE 11       12       1               \n",
              "4 fosX=COMPLETE,lin=COMPLETE 25       22       2               \n",
              "5 fosX=COMPLETE,lin=COMPLETE  4        8       1               \n",
              "6 fosX=COMPLETE,lin=COMPLETE 19        1       1               "
            ]
          },
          "metadata": {}
        }
      ]
    },
    {
      "cell_type": "code",
      "source": [
        "dim(isolates)"
      ],
      "metadata": {
        "colab": {
          "base_uri": "https://localhost:8080/",
          "height": 34
        },
        "id": "LVOKkyxtx2hl",
        "outputId": "e6a58aaf-ed41-440e-ca11-ef141db6eb39"
      },
      "execution_count": null,
      "outputs": [
        {
          "output_type": "display_data",
          "data": {
            "text/html": [
              "<style>\n",
              ".list-inline {list-style: none; margin:0; padding: 0}\n",
              ".list-inline>li {display: inline-block}\n",
              ".list-inline>li:not(:last-child)::after {content: \"\\00b7\"; padding: 0 .5ex}\n",
              "</style>\n",
              "<ol class=list-inline><li>1408</li><li>4</li></ol>\n"
            ],
            "text/markdown": "1. 1408\n2. 4\n\n\n",
            "text/latex": "\\begin{enumerate*}\n\\item 1408\n\\item 4\n\\end{enumerate*}\n",
            "text/plain": [
              "[1] 1408    4"
            ]
          },
          "metadata": {}
        }
      ]
    },
    {
      "cell_type": "code",
      "source": [
        "sum(complete.cases(isolates[,c('AMR.genotypes' , 'Min.diff', 'Min.same')]))"
      ],
      "metadata": {
        "colab": {
          "base_uri": "https://localhost:8080/",
          "height": 34
        },
        "id": "FBTn6r0fz7SL",
        "outputId": "cc8acb10-f246-4696-c7d1-2a9c63aa8f0e"
      },
      "execution_count": null,
      "outputs": [
        {
          "output_type": "display_data",
          "data": {
            "text/html": [
              "1408"
            ],
            "text/markdown": "1408",
            "text/latex": "1408",
            "text/plain": [
              "[1] 1408"
            ]
          },
          "metadata": {}
        }
      ]
    },
    {
      "cell_type": "code",
      "source": [
        "isolates_mat <- model.matrix(Isolation.source~AMR.genotypes + Min.diff + Min.same, isolates)\n",
        "\n",
        "dim(isolates_mat)"
      ],
      "metadata": {
        "colab": {
          "base_uri": "https://localhost:8080/",
          "height": 34
        },
        "id": "pEw2Nf3sx3QS",
        "outputId": "4b4232e2-3c6c-4b52-f697-5896b0e5eacb"
      },
      "execution_count": null,
      "outputs": [
        {
          "output_type": "display_data",
          "data": {
            "text/html": [
              "<style>\n",
              ".list-inline {list-style: none; margin:0; padding: 0}\n",
              ".list-inline>li {display: inline-block}\n",
              ".list-inline>li:not(:last-child)::after {content: \"\\00b7\"; padding: 0 .5ex}\n",
              "</style>\n",
              "<ol class=list-inline><li>1408</li><li>18</li></ol>\n"
            ],
            "text/markdown": "1. 1408\n2. 18\n\n\n",
            "text/latex": "\\begin{enumerate*}\n\\item 1408\n\\item 18\n\\end{enumerate*}\n",
            "text/plain": [
              "[1] 1408   18"
            ]
          },
          "metadata": {}
        }
      ]
    },
    {
      "cell_type": "code",
      "source": [
        "head(isolates_mat)\n"
      ],
      "metadata": {
        "colab": {
          "base_uri": "https://localhost:8080/",
          "height": 292
        },
        "id": "Ub2q-GIvyLhs",
        "outputId": "ed0910b5-c256-4363-8fb5-4cb8c9ccff4b"
      },
      "execution_count": null,
      "outputs": [
        {
          "output_type": "display_data",
          "data": {
            "text/html": [
              "<table class=\"dataframe\">\n",
              "<caption>A matrix: 6 × 18 of type dbl</caption>\n",
              "<thead>\n",
              "\t<tr><th></th><th scope=col>(Intercept)</th><th scope=col>AMR.genotypesabc-f=HMM,erm(C)=PARTIAL_END_OF_CONTIG,fosX=COMPLETE,lin=COMPLETE</th><th scope=col>AMR.genotypesabc-f=HMM,fosX=COMPLETE,lin=COMPLETE</th><th scope=col>AMR.genotypesabc-f=HMM,fosX=COMPLETE,lin=COMPLETE,tet(M)=COMPLETE</th><th scope=col>AMR.genotypesabc-f=HMM,fosX=COMPLETE,lin=COMPLETE,tet(O)=PARTIAL</th><th scope=col>AMR.genotypesabc-f=HMM,fosX=COMPLETE,lin=PARTIAL_END_OF_CONTIG</th><th scope=col>AMR.genotypesaph(4)-Ia=PARTIAL_END_OF_CONTIG,fosX=COMPLETE,lin=COMPLETE</th><th scope=col>AMR.genotypesblaTEM-116=COMPLETE,fosX=COMPLETE,lin=COMPLETE</th><th scope=col>AMR.genotypesdfrD=COMPLETE,fosX=COMPLETE,lin=COMPLETE</th><th scope=col>AMR.genotypesfexA=COMPLETE,fosX=COMPLETE,lin=COMPLETE</th><th scope=col>AMR.genotypesfosX=COMPLETE,lin=COMPLETE</th><th scope=col>AMR.genotypesfosX=COMPLETE,lin=COMPLETE,lin=PARTIAL</th><th scope=col>AMR.genotypesfosX=COMPLETE,lin=COMPLETE,lin=PARTIAL_END_OF_CONTIG</th><th scope=col>AMR.genotypesfosX=COMPLETE,lin=COMPLETE,lnu(B)=COMPLETE,lsa(E)=COMPLETE</th><th scope=col>AMR.genotypesfosX=COMPLETE,lin=COMPLETE,mef(A)=COMPLETE,msr(D)=COMPLETE,tet(M)=COMPLETE</th><th scope=col>AMR.genotypesfosX=COMPLETE,lin=COMPLETE,tet(M)=COMPLETE</th><th scope=col>Min.diff</th><th scope=col>Min.same</th></tr>\n",
              "</thead>\n",
              "<tbody>\n",
              "\t<tr><th scope=row>1</th><td>1</td><td>0</td><td>0</td><td>0</td><td>0</td><td>0</td><td>0</td><td>0</td><td>0</td><td>0</td><td>1</td><td>0</td><td>0</td><td>0</td><td>0</td><td>0</td><td>16</td><td>22</td></tr>\n",
              "\t<tr><th scope=row>2</th><td>1</td><td>0</td><td>0</td><td>0</td><td>0</td><td>0</td><td>0</td><td>0</td><td>0</td><td>0</td><td>1</td><td>0</td><td>0</td><td>0</td><td>0</td><td>0</td><td>17</td><td> 6</td></tr>\n",
              "\t<tr><th scope=row>3</th><td>1</td><td>0</td><td>0</td><td>0</td><td>0</td><td>0</td><td>0</td><td>0</td><td>0</td><td>0</td><td>1</td><td>0</td><td>0</td><td>0</td><td>0</td><td>0</td><td>11</td><td>12</td></tr>\n",
              "\t<tr><th scope=row>4</th><td>1</td><td>0</td><td>0</td><td>0</td><td>0</td><td>0</td><td>0</td><td>0</td><td>0</td><td>0</td><td>1</td><td>0</td><td>0</td><td>0</td><td>0</td><td>0</td><td>25</td><td>22</td></tr>\n",
              "\t<tr><th scope=row>5</th><td>1</td><td>0</td><td>0</td><td>0</td><td>0</td><td>0</td><td>0</td><td>0</td><td>0</td><td>0</td><td>1</td><td>0</td><td>0</td><td>0</td><td>0</td><td>0</td><td> 4</td><td> 8</td></tr>\n",
              "\t<tr><th scope=row>6</th><td>1</td><td>0</td><td>0</td><td>0</td><td>0</td><td>0</td><td>0</td><td>0</td><td>0</td><td>0</td><td>1</td><td>0</td><td>0</td><td>0</td><td>0</td><td>0</td><td>19</td><td> 1</td></tr>\n",
              "</tbody>\n",
              "</table>\n"
            ],
            "text/markdown": "\nA matrix: 6 × 18 of type dbl\n\n| <!--/--> | (Intercept) | AMR.genotypesabc-f=HMM,erm(C)=PARTIAL_END_OF_CONTIG,fosX=COMPLETE,lin=COMPLETE | AMR.genotypesabc-f=HMM,fosX=COMPLETE,lin=COMPLETE | AMR.genotypesabc-f=HMM,fosX=COMPLETE,lin=COMPLETE,tet(M)=COMPLETE | AMR.genotypesabc-f=HMM,fosX=COMPLETE,lin=COMPLETE,tet(O)=PARTIAL | AMR.genotypesabc-f=HMM,fosX=COMPLETE,lin=PARTIAL_END_OF_CONTIG | AMR.genotypesaph(4)-Ia=PARTIAL_END_OF_CONTIG,fosX=COMPLETE,lin=COMPLETE | AMR.genotypesblaTEM-116=COMPLETE,fosX=COMPLETE,lin=COMPLETE | AMR.genotypesdfrD=COMPLETE,fosX=COMPLETE,lin=COMPLETE | AMR.genotypesfexA=COMPLETE,fosX=COMPLETE,lin=COMPLETE | AMR.genotypesfosX=COMPLETE,lin=COMPLETE | AMR.genotypesfosX=COMPLETE,lin=COMPLETE,lin=PARTIAL | AMR.genotypesfosX=COMPLETE,lin=COMPLETE,lin=PARTIAL_END_OF_CONTIG | AMR.genotypesfosX=COMPLETE,lin=COMPLETE,lnu(B)=COMPLETE,lsa(E)=COMPLETE | AMR.genotypesfosX=COMPLETE,lin=COMPLETE,mef(A)=COMPLETE,msr(D)=COMPLETE,tet(M)=COMPLETE | AMR.genotypesfosX=COMPLETE,lin=COMPLETE,tet(M)=COMPLETE | Min.diff | Min.same |\n|---|---|---|---|---|---|---|---|---|---|---|---|---|---|---|---|---|---|---|\n| 1 | 1 | 0 | 0 | 0 | 0 | 0 | 0 | 0 | 0 | 0 | 1 | 0 | 0 | 0 | 0 | 0 | 16 | 22 |\n| 2 | 1 | 0 | 0 | 0 | 0 | 0 | 0 | 0 | 0 | 0 | 1 | 0 | 0 | 0 | 0 | 0 | 17 |  6 |\n| 3 | 1 | 0 | 0 | 0 | 0 | 0 | 0 | 0 | 0 | 0 | 1 | 0 | 0 | 0 | 0 | 0 | 11 | 12 |\n| 4 | 1 | 0 | 0 | 0 | 0 | 0 | 0 | 0 | 0 | 0 | 1 | 0 | 0 | 0 | 0 | 0 | 25 | 22 |\n| 5 | 1 | 0 | 0 | 0 | 0 | 0 | 0 | 0 | 0 | 0 | 1 | 0 | 0 | 0 | 0 | 0 |  4 |  8 |\n| 6 | 1 | 0 | 0 | 0 | 0 | 0 | 0 | 0 | 0 | 0 | 1 | 0 | 0 | 0 | 0 | 0 | 19 |  1 |\n\n",
            "text/latex": "A matrix: 6 × 18 of type dbl\n\\begin{tabular}{r|llllllllllllllllll}\n  & (Intercept) & AMR.genotypesabc-f=HMM,erm(C)=PARTIAL\\_END\\_OF\\_CONTIG,fosX=COMPLETE,lin=COMPLETE & AMR.genotypesabc-f=HMM,fosX=COMPLETE,lin=COMPLETE & AMR.genotypesabc-f=HMM,fosX=COMPLETE,lin=COMPLETE,tet(M)=COMPLETE & AMR.genotypesabc-f=HMM,fosX=COMPLETE,lin=COMPLETE,tet(O)=PARTIAL & AMR.genotypesabc-f=HMM,fosX=COMPLETE,lin=PARTIAL\\_END\\_OF\\_CONTIG & AMR.genotypesaph(4)-Ia=PARTIAL\\_END\\_OF\\_CONTIG,fosX=COMPLETE,lin=COMPLETE & AMR.genotypesblaTEM-116=COMPLETE,fosX=COMPLETE,lin=COMPLETE & AMR.genotypesdfrD=COMPLETE,fosX=COMPLETE,lin=COMPLETE & AMR.genotypesfexA=COMPLETE,fosX=COMPLETE,lin=COMPLETE & AMR.genotypesfosX=COMPLETE,lin=COMPLETE & AMR.genotypesfosX=COMPLETE,lin=COMPLETE,lin=PARTIAL & AMR.genotypesfosX=COMPLETE,lin=COMPLETE,lin=PARTIAL\\_END\\_OF\\_CONTIG & AMR.genotypesfosX=COMPLETE,lin=COMPLETE,lnu(B)=COMPLETE,lsa(E)=COMPLETE & AMR.genotypesfosX=COMPLETE,lin=COMPLETE,mef(A)=COMPLETE,msr(D)=COMPLETE,tet(M)=COMPLETE & AMR.genotypesfosX=COMPLETE,lin=COMPLETE,tet(M)=COMPLETE & Min.diff & Min.same\\\\\n\\hline\n\t1 & 1 & 0 & 0 & 0 & 0 & 0 & 0 & 0 & 0 & 0 & 1 & 0 & 0 & 0 & 0 & 0 & 16 & 22\\\\\n\t2 & 1 & 0 & 0 & 0 & 0 & 0 & 0 & 0 & 0 & 0 & 1 & 0 & 0 & 0 & 0 & 0 & 17 &  6\\\\\n\t3 & 1 & 0 & 0 & 0 & 0 & 0 & 0 & 0 & 0 & 0 & 1 & 0 & 0 & 0 & 0 & 0 & 11 & 12\\\\\n\t4 & 1 & 0 & 0 & 0 & 0 & 0 & 0 & 0 & 0 & 0 & 1 & 0 & 0 & 0 & 0 & 0 & 25 & 22\\\\\n\t5 & 1 & 0 & 0 & 0 & 0 & 0 & 0 & 0 & 0 & 0 & 1 & 0 & 0 & 0 & 0 & 0 &  4 &  8\\\\\n\t6 & 1 & 0 & 0 & 0 & 0 & 0 & 0 & 0 & 0 & 0 & 1 & 0 & 0 & 0 & 0 & 0 & 19 &  1\\\\\n\\end{tabular}\n",
            "text/plain": [
              "  (Intercept)\n",
              "1 1          \n",
              "2 1          \n",
              "3 1          \n",
              "4 1          \n",
              "5 1          \n",
              "6 1          \n",
              "  AMR.genotypesabc-f=HMM,erm(C)=PARTIAL_END_OF_CONTIG,fosX=COMPLETE,lin=COMPLETE\n",
              "1 0                                                                             \n",
              "2 0                                                                             \n",
              "3 0                                                                             \n",
              "4 0                                                                             \n",
              "5 0                                                                             \n",
              "6 0                                                                             \n",
              "  AMR.genotypesabc-f=HMM,fosX=COMPLETE,lin=COMPLETE\n",
              "1 0                                                \n",
              "2 0                                                \n",
              "3 0                                                \n",
              "4 0                                                \n",
              "5 0                                                \n",
              "6 0                                                \n",
              "  AMR.genotypesabc-f=HMM,fosX=COMPLETE,lin=COMPLETE,tet(M)=COMPLETE\n",
              "1 0                                                                \n",
              "2 0                                                                \n",
              "3 0                                                                \n",
              "4 0                                                                \n",
              "5 0                                                                \n",
              "6 0                                                                \n",
              "  AMR.genotypesabc-f=HMM,fosX=COMPLETE,lin=COMPLETE,tet(O)=PARTIAL\n",
              "1 0                                                               \n",
              "2 0                                                               \n",
              "3 0                                                               \n",
              "4 0                                                               \n",
              "5 0                                                               \n",
              "6 0                                                               \n",
              "  AMR.genotypesabc-f=HMM,fosX=COMPLETE,lin=PARTIAL_END_OF_CONTIG\n",
              "1 0                                                             \n",
              "2 0                                                             \n",
              "3 0                                                             \n",
              "4 0                                                             \n",
              "5 0                                                             \n",
              "6 0                                                             \n",
              "  AMR.genotypesaph(4)-Ia=PARTIAL_END_OF_CONTIG,fosX=COMPLETE,lin=COMPLETE\n",
              "1 0                                                                      \n",
              "2 0                                                                      \n",
              "3 0                                                                      \n",
              "4 0                                                                      \n",
              "5 0                                                                      \n",
              "6 0                                                                      \n",
              "  AMR.genotypesblaTEM-116=COMPLETE,fosX=COMPLETE,lin=COMPLETE\n",
              "1 0                                                          \n",
              "2 0                                                          \n",
              "3 0                                                          \n",
              "4 0                                                          \n",
              "5 0                                                          \n",
              "6 0                                                          \n",
              "  AMR.genotypesdfrD=COMPLETE,fosX=COMPLETE,lin=COMPLETE\n",
              "1 0                                                    \n",
              "2 0                                                    \n",
              "3 0                                                    \n",
              "4 0                                                    \n",
              "5 0                                                    \n",
              "6 0                                                    \n",
              "  AMR.genotypesfexA=COMPLETE,fosX=COMPLETE,lin=COMPLETE\n",
              "1 0                                                    \n",
              "2 0                                                    \n",
              "3 0                                                    \n",
              "4 0                                                    \n",
              "5 0                                                    \n",
              "6 0                                                    \n",
              "  AMR.genotypesfosX=COMPLETE,lin=COMPLETE\n",
              "1 1                                      \n",
              "2 1                                      \n",
              "3 1                                      \n",
              "4 1                                      \n",
              "5 1                                      \n",
              "6 1                                      \n",
              "  AMR.genotypesfosX=COMPLETE,lin=COMPLETE,lin=PARTIAL\n",
              "1 0                                                  \n",
              "2 0                                                  \n",
              "3 0                                                  \n",
              "4 0                                                  \n",
              "5 0                                                  \n",
              "6 0                                                  \n",
              "  AMR.genotypesfosX=COMPLETE,lin=COMPLETE,lin=PARTIAL_END_OF_CONTIG\n",
              "1 0                                                                \n",
              "2 0                                                                \n",
              "3 0                                                                \n",
              "4 0                                                                \n",
              "5 0                                                                \n",
              "6 0                                                                \n",
              "  AMR.genotypesfosX=COMPLETE,lin=COMPLETE,lnu(B)=COMPLETE,lsa(E)=COMPLETE\n",
              "1 0                                                                      \n",
              "2 0                                                                      \n",
              "3 0                                                                      \n",
              "4 0                                                                      \n",
              "5 0                                                                      \n",
              "6 0                                                                      \n",
              "  AMR.genotypesfosX=COMPLETE,lin=COMPLETE,mef(A)=COMPLETE,msr(D)=COMPLETE,tet(M)=COMPLETE\n",
              "1 0                                                                                      \n",
              "2 0                                                                                      \n",
              "3 0                                                                                      \n",
              "4 0                                                                                      \n",
              "5 0                                                                                      \n",
              "6 0                                                                                      \n",
              "  AMR.genotypesfosX=COMPLETE,lin=COMPLETE,tet(M)=COMPLETE Min.diff Min.same\n",
              "1 0                                                       16       22      \n",
              "2 0                                                       17        6      \n",
              "3 0                                                       11       12      \n",
              "4 0                                                       25       22      \n",
              "5 0                                                        4        8      \n",
              "6 0                                                       19        1      "
            ]
          },
          "metadata": {}
        }
      ]
    },
    {
      "cell_type": "code",
      "source": [
        "# isolates_mat <- isolates_mat[,-1]"
      ],
      "metadata": {
        "id": "pdtlBgoGz5zd"
      },
      "execution_count": null,
      "outputs": []
    },
    {
      "cell_type": "code",
      "source": [
        "# Split into test and train \n",
        "set.seed(10)\n",
        "ids_train <- sample.int(nrow(isolates), size = 0.75*nrow(isolates))\n",
        "train_x <- isolates_mat[ids_train,]\n",
        "train_y <- isolates$Isolation.source[ids_train]\n",
        "test_x <- isolates_mat[-ids_train,] \n",
        "test_y <- isolates$Isolation.source[-ids_train]"
      ],
      "metadata": {
        "id": "iuTkgNXkyod4"
      },
      "execution_count": null,
      "outputs": []
    },
    {
      "cell_type": "code",
      "source": [
        "# Scale: standardize\n",
        "train_means <- apply(train_x, 2, mean)\n",
        "train_sds <- apply(train_x, 2, sd)\n",
        "train_x <- sweep(sweep(train_x, 2L, train_means), 2, train_sds, \"/\")\n",
        "test_x <- sweep(sweep(test_x, 2L, train_means), 2, train_sds, \"/\")"
      ],
      "metadata": {
        "id": "xayekaHXycNV"
      },
      "execution_count": null,
      "outputs": []
    },
    {
      "cell_type": "code",
      "source": [
        "# Remove NA columns after standardization:\n",
        "seeNA <- sapply(1: ncol(train_x), function(i) sum(is.na(train_x[,i])))\n",
        "seeNA\n",
        "which(seeNA !=0)\n",
        "train_x <- train_x[,-which(seeNA !=0)]"
      ],
      "metadata": {
        "colab": {
          "base_uri": "https://localhost:8080/",
          "height": 52
        },
        "id": "T_WaPKsp1Hl2",
        "outputId": "1a04f379-b74f-4bf2-9a85-29e0b860e3a4"
      },
      "execution_count": null,
      "outputs": [
        {
          "output_type": "display_data",
          "data": {
            "text/html": [
              "<style>\n",
              ".list-inline {list-style: none; margin:0; padding: 0}\n",
              ".list-inline>li {display: inline-block}\n",
              ".list-inline>li:not(:last-child)::after {content: \"\\00b7\"; padding: 0 .5ex}\n",
              "</style>\n",
              "<ol class=list-inline><li>1056</li><li>0</li><li>0</li><li>0</li><li>0</li><li>1056</li><li>0</li><li>0</li><li>0</li><li>1056</li><li>0</li><li>0</li><li>0</li><li>0</li><li>0</li><li>0</li><li>0</li><li>0</li></ol>\n"
            ],
            "text/markdown": "1. 1056\n2. 0\n3. 0\n4. 0\n5. 0\n6. 1056\n7. 0\n8. 0\n9. 0\n10. 1056\n11. 0\n12. 0\n13. 0\n14. 0\n15. 0\n16. 0\n17. 0\n18. 0\n\n\n",
            "text/latex": "\\begin{enumerate*}\n\\item 1056\n\\item 0\n\\item 0\n\\item 0\n\\item 0\n\\item 1056\n\\item 0\n\\item 0\n\\item 0\n\\item 1056\n\\item 0\n\\item 0\n\\item 0\n\\item 0\n\\item 0\n\\item 0\n\\item 0\n\\item 0\n\\end{enumerate*}\n",
            "text/plain": [
              " [1] 1056    0    0    0    0 1056    0    0    0 1056    0    0    0    0    0\n",
              "[16]    0    0    0"
            ]
          },
          "metadata": {}
        },
        {
          "output_type": "display_data",
          "data": {
            "text/html": [
              "<style>\n",
              ".list-inline {list-style: none; margin:0; padding: 0}\n",
              ".list-inline>li {display: inline-block}\n",
              ".list-inline>li:not(:last-child)::after {content: \"\\00b7\"; padding: 0 .5ex}\n",
              "</style>\n",
              "<ol class=list-inline><li>1</li><li>6</li><li>10</li></ol>\n"
            ],
            "text/markdown": "1. 1\n2. 6\n3. 10\n\n\n",
            "text/latex": "\\begin{enumerate*}\n\\item 1\n\\item 6\n\\item 10\n\\end{enumerate*}\n",
            "text/plain": [
              "[1]  1  6 10"
            ]
          },
          "metadata": {}
        }
      ]
    },
    {
      "cell_type": "code",
      "source": [
        "# Do the same step for test set:\n",
        "seeNA <- sapply(1: ncol(test_x), function(i) sum(is.na(test_x[,i])))\n",
        "seeNA\n",
        "which(seeNA !=0)\n",
        "\n",
        "test_x <- test_x[,-which(seeNA !=0)]"
      ],
      "metadata": {
        "colab": {
          "base_uri": "https://localhost:8080/",
          "height": 52
        },
        "id": "vQfQR66U1dlU",
        "outputId": "322bf7da-01b9-4899-e28b-80ff6ed16a79"
      },
      "execution_count": null,
      "outputs": [
        {
          "output_type": "display_data",
          "data": {
            "text/html": [
              "<style>\n",
              ".list-inline {list-style: none; margin:0; padding: 0}\n",
              ".list-inline>li {display: inline-block}\n",
              ".list-inline>li:not(:last-child)::after {content: \"\\00b7\"; padding: 0 .5ex}\n",
              "</style>\n",
              "<ol class=list-inline><li>352</li><li>0</li><li>0</li><li>0</li><li>0</li><li>351</li><li>0</li><li>0</li><li>0</li><li>351</li><li>0</li><li>0</li><li>0</li><li>0</li><li>0</li><li>0</li><li>0</li><li>0</li></ol>\n"
            ],
            "text/markdown": "1. 352\n2. 0\n3. 0\n4. 0\n5. 0\n6. 351\n7. 0\n8. 0\n9. 0\n10. 351\n11. 0\n12. 0\n13. 0\n14. 0\n15. 0\n16. 0\n17. 0\n18. 0\n\n\n",
            "text/latex": "\\begin{enumerate*}\n\\item 352\n\\item 0\n\\item 0\n\\item 0\n\\item 0\n\\item 351\n\\item 0\n\\item 0\n\\item 0\n\\item 351\n\\item 0\n\\item 0\n\\item 0\n\\item 0\n\\item 0\n\\item 0\n\\item 0\n\\item 0\n\\end{enumerate*}\n",
            "text/plain": [
              " [1] 352   0   0   0   0 351   0   0   0 351   0   0   0   0   0   0   0   0"
            ]
          },
          "metadata": {}
        },
        {
          "output_type": "display_data",
          "data": {
            "text/html": [
              "<style>\n",
              ".list-inline {list-style: none; margin:0; padding: 0}\n",
              ".list-inline>li {display: inline-block}\n",
              ".list-inline>li:not(:last-child)::after {content: \"\\00b7\"; padding: 0 .5ex}\n",
              "</style>\n",
              "<ol class=list-inline><li>1</li><li>6</li><li>10</li></ol>\n"
            ],
            "text/markdown": "1. 1\n2. 6\n3. 10\n\n\n",
            "text/latex": "\\begin{enumerate*}\n\\item 1\n\\item 6\n\\item 10\n\\end{enumerate*}\n",
            "text/plain": [
              "[1]  1  6 10"
            ]
          },
          "metadata": {}
        }
      ]
    },
    {
      "cell_type": "code",
      "source": [
        "# After removing NA cols, there're 15 cols\n",
        "dim(train_x)"
      ],
      "metadata": {
        "colab": {
          "base_uri": "https://localhost:8080/",
          "height": 34
        },
        "id": "DlnsV-sd1l2s",
        "outputId": "1347d110-68e5-4008-fda4-974243f64322"
      },
      "execution_count": null,
      "outputs": [
        {
          "output_type": "display_data",
          "data": {
            "text/html": [
              "<style>\n",
              ".list-inline {list-style: none; margin:0; padding: 0}\n",
              ".list-inline>li {display: inline-block}\n",
              ".list-inline>li:not(:last-child)::after {content: \"\\00b7\"; padding: 0 .5ex}\n",
              "</style>\n",
              "<ol class=list-inline><li>1056</li><li>15</li></ol>\n"
            ],
            "text/markdown": "1. 1056\n2. 15\n\n\n",
            "text/latex": "\\begin{enumerate*}\n\\item 1056\n\\item 15\n\\end{enumerate*}\n",
            "text/plain": [
              "[1] 1056   15"
            ]
          },
          "metadata": {}
        }
      ]
    },
    {
      "cell_type": "code",
      "source": [
        "unique(train_y)"
      ],
      "metadata": {
        "colab": {
          "base_uri": "https://localhost:8080/",
          "height": 34
        },
        "id": "lS2YYqdgWpAu",
        "outputId": "fb1484d3-d8c5-4841-a76b-7f0c415ef20c"
      },
      "execution_count": null,
      "outputs": [
        {
          "output_type": "display_data",
          "data": {
            "text/html": [
              "<style>\n",
              ".list-inline {list-style: none; margin:0; padding: 0}\n",
              ".list-inline>li {display: inline-block}\n",
              ".list-inline>li:not(:last-child)::after {content: \"\\00b7\"; padding: 0 .5ex}\n",
              "</style>\n",
              "<ol class=list-inline><li>1</li><li>2</li></ol>\n"
            ],
            "text/markdown": "1. 1\n2. 2\n\n\n",
            "text/latex": "\\begin{enumerate*}\n\\item 1\n\\item 2\n\\end{enumerate*}\n",
            "text/plain": [
              "[1] 1 2"
            ]
          },
          "metadata": {}
        }
      ]
    },
    {
      "cell_type": "code",
      "source": [
        "# Create network architecture with dropout (can change parameters after)\n",
        "model <- keras_model_sequential() %>%\n",
        "  layer_dense(units = 15, activation = \"relu\", input_shape = c(15)) %>%\n",
        "  layer_dropout(rate=0.5) %>%\n",
        "  layer_dense(units = 10, activation = \"relu\") %>%\n",
        "  layer_dense(units = 6, activation = \"relu\") %>%\n",
        "  layer_dropout(rate=0.5) %>%\n",
        "  layer_dense(units = 1, activation = \"sigmoid\")\n",
        "summary(model)\n",
        "\n",
        "# Train using validation set and early stopping\n",
        "model %>% compile(\n",
        "  loss = \"binary_crossentropy\", \n",
        "  optimizer = \"adam\", \n",
        "  metrics = \"accuracy\"\n",
        ")\n",
        "\n",
        "history <- model %>% \n",
        "  fit(\n",
        "    x = train_x,\n",
        "    y = train_y,\n",
        "    epochs = 80,\n",
        "    validation_split = 0.2,\n",
        "    callbacks = callback_early_stopping(monitor=\"val_loss\", patience = 4)\n",
        "  )\n"
      ],
      "metadata": {
        "colab": {
          "base_uri": "https://localhost:8080/"
        },
        "id": "MxRHxjczWVEM",
        "outputId": "89311705-a779-48c0-f527-359a8cf065f8"
      },
      "execution_count": null,
      "outputs": [
        {
          "output_type": "stream",
          "name": "stderr",
          "text": [
            "Loaded Tensorflow version 2.9.2\n",
            "\n"
          ]
        },
        {
          "output_type": "stream",
          "name": "stdout",
          "text": [
            "Model: \"sequential\"\n",
            "________________________________________________________________________________\n",
            " Layer (type)                       Output Shape                    Param #     \n",
            "================================================================================\n",
            " dense_3 (Dense)                    (None, 15)                      240         \n",
            " dropout_1 (Dropout)                (None, 15)                      0           \n",
            " dense_2 (Dense)                    (None, 10)                      160         \n",
            " dense_1 (Dense)                    (None, 6)                       66          \n",
            " dropout (Dropout)                  (None, 6)                       0           \n",
            " dense (Dense)                      (None, 1)                       7           \n",
            "================================================================================\n",
            "Total params: 473\n",
            "Trainable params: 473\n",
            "Non-trainable params: 0\n",
            "________________________________________________________________________________\n"
          ]
        }
      ]
    },
    {
      "cell_type": "code",
      "source": [
        "# Can reproduce plot of metrics\n",
        "plot(history)"
      ],
      "metadata": {
        "colab": {
          "base_uri": "https://localhost:8080/",
          "height": 437
        },
        "id": "NJ8A-AEKXuk9",
        "outputId": "532dba13-1aaa-4b84-f50a-f69b2d0c0c28"
      },
      "execution_count": null,
      "outputs": [
        {
          "output_type": "display_data",
          "data": {
            "text/plain": [
              "plot without title"
            ],
            "image/png": "[encoded data removed]"
          },
          "metadata": {
            "image/png": {
              "width": 420,
              "height": 420
            }
          }
        }
      ]
    },
    {
      "cell_type": "code",
      "source": [
        "# Evaluate the model\n",
        "model %>% evaluate(test_x, test_y, verbose = 0)\n",
        "pred_probs <- predict(model, test_x)\n",
        "\n",
        "library(Metrics)\n",
        "auc(test_y, pred_probs)\n"
      ],
      "metadata": {
        "colab": {
          "base_uri": "https://localhost:8080/",
          "height": 52
        },
        "id": "IwqNeRFqXxGn",
        "outputId": "38e92653-d5aa-447c-fe5d-52232082d42d"
      },
      "execution_count": null,
      "outputs": [
        {
          "output_type": "display_data",
          "data": {
            "text/html": [
              "<style>\n",
              ".dl-inline {width: auto; margin:0; padding: 0}\n",
              ".dl-inline>dt, .dl-inline>dd {float: none; width: auto; display: inline-block}\n",
              ".dl-inline>dt::after {content: \":\\0020\"; padding-right: .5ex}\n",
              ".dl-inline>dt:not(:first-of-type) {padding-left: .5ex}\n",
              "</style><dl class=dl-inline><dt>loss</dt><dd>-9807.12109375</dd><dt>accuracy</dt><dd>0.892045438289642</dd></dl>\n"
            ],
            "text/markdown": "loss\n:   -9807.12109375accuracy\n:   0.892045438289642\n\n",
            "text/latex": "\\begin{description*}\n\\item[loss] -9807.12109375\n\\item[accuracy] 0.892045438289642\n\\end{description*}\n",
            "text/plain": [
              "         loss      accuracy \n",
              "-9807.1210938     0.8920454 "
            ]
          },
          "metadata": {}
        },
        {
          "output_type": "display_data",
          "data": {
            "text/html": [
              "0.5"
            ],
            "text/markdown": "0.5",
            "text/latex": "0.5",
            "text/plain": [
              "[1] 0.5"
            ]
          },
          "metadata": {}
        }
      ]
    },
    {
      "cell_type": "code",
      "source": [
        "table(test_y)"
      ],
      "metadata": {
        "id": "exylKaHiappH",
        "colab": {
          "base_uri": "https://localhost:8080/",
          "height": 69
        },
        "outputId": "9f7f957d-7261-48f3-a8a8-b56d2062b1f4"
      },
      "execution_count": null,
      "outputs": [
        {
          "output_type": "display_data",
          "data": {
            "text/plain": [
              "test_y\n",
              "  1   2 \n",
              "314  38 "
            ]
          },
          "metadata": {}
        }
      ]
    },
    {
      "cell_type": "code",
      "source": [],
      "metadata": {
        "id": "Ag4UkOgy3yCb"
      },
      "execution_count": null,
      "outputs": []
    }
  ]
}